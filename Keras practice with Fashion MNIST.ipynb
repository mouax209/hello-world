{
 "cells": [
  {
   "cell_type": "markdown",
   "metadata": {},
   "source": [
    "### Import Libraries & Modules"
   ]
  },
  {
   "cell_type": "code",
   "execution_count": 1,
   "metadata": {},
   "outputs": [],
   "source": [
    "import numpy as np\n",
    "import pandas as pd\n",
    "import matplotlib.pyplot as plt\n",
    "from sklearn.datasets import fetch_openml\n",
    "import seaborn as sns\n",
    "import keras\n",
    "import tensorflow as tf\n",
    "import warnings\n",
    "warnings.filterwarnings(\"ignore\")"
   ]
  },
  {
   "cell_type": "markdown",
   "metadata": {},
   "source": [
    "#### Import keras models "
   ]
  },
  {
   "cell_type": "code",
   "execution_count": 2,
   "metadata": {},
   "outputs": [],
   "source": [
    "#import various components for model building \n",
    "from keras.models import Sequential \n",
    "from keras.layers import Dense, Dropout, Flatten, Conv2D, MaxPooling2D\n",
    "from keras.layers import LSTM, Input, TimeDistributed\n",
    "from keras.models import Model \n",
    "from keras.optimizers import RMSprop \n",
    "\n",
    "#import backend \n",
    "from keras import backend as K "
   ]
  },
  {
   "cell_type": "markdown",
   "metadata": {},
   "source": [
    "#### Import Data"
   ]
  },
  {
   "cell_type": "code",
   "execution_count": 3,
   "metadata": {},
   "outputs": [],
   "source": [
    "from keras.datasets import fashion_mnist\n",
    "(X_train, y_train), (X_test, y_test) = fashion_mnist.load_data()"
   ]
  },
  {
   "cell_type": "code",
   "execution_count": 4,
   "metadata": {},
   "outputs": [
    {
     "data": {
      "text/plain": [
       "array([[[0, 0, 0, ..., 0, 0, 0],\n",
       "        [0, 0, 0, ..., 0, 0, 0],\n",
       "        [0, 0, 0, ..., 0, 0, 0],\n",
       "        ...,\n",
       "        [0, 0, 0, ..., 0, 0, 0],\n",
       "        [0, 0, 0, ..., 0, 0, 0],\n",
       "        [0, 0, 0, ..., 0, 0, 0]],\n",
       "\n",
       "       [[0, 0, 0, ..., 0, 0, 0],\n",
       "        [0, 0, 0, ..., 0, 0, 0],\n",
       "        [0, 0, 0, ..., 0, 0, 0],\n",
       "        ...,\n",
       "        [0, 0, 0, ..., 0, 0, 0],\n",
       "        [0, 0, 0, ..., 0, 0, 0],\n",
       "        [0, 0, 0, ..., 0, 0, 0]],\n",
       "\n",
       "       [[0, 0, 0, ..., 0, 0, 0],\n",
       "        [0, 0, 0, ..., 0, 0, 0],\n",
       "        [0, 0, 0, ..., 0, 0, 0],\n",
       "        ...,\n",
       "        [0, 0, 0, ..., 0, 0, 0],\n",
       "        [0, 0, 0, ..., 0, 0, 0],\n",
       "        [0, 0, 0, ..., 0, 0, 0]],\n",
       "\n",
       "       ...,\n",
       "\n",
       "       [[0, 0, 0, ..., 0, 0, 0],\n",
       "        [0, 0, 0, ..., 0, 0, 0],\n",
       "        [0, 0, 0, ..., 0, 0, 0],\n",
       "        ...,\n",
       "        [0, 0, 0, ..., 0, 0, 0],\n",
       "        [0, 0, 0, ..., 0, 0, 0],\n",
       "        [0, 0, 0, ..., 0, 0, 0]],\n",
       "\n",
       "       [[0, 0, 0, ..., 0, 0, 0],\n",
       "        [0, 0, 0, ..., 0, 0, 0],\n",
       "        [0, 0, 0, ..., 0, 0, 0],\n",
       "        ...,\n",
       "        [0, 0, 0, ..., 0, 0, 0],\n",
       "        [0, 0, 0, ..., 0, 0, 0],\n",
       "        [0, 0, 0, ..., 0, 0, 0]],\n",
       "\n",
       "       [[0, 0, 0, ..., 0, 0, 0],\n",
       "        [0, 0, 0, ..., 0, 0, 0],\n",
       "        [0, 0, 0, ..., 0, 0, 0],\n",
       "        ...,\n",
       "        [0, 0, 0, ..., 0, 0, 0],\n",
       "        [0, 0, 0, ..., 0, 0, 0],\n",
       "        [0, 0, 0, ..., 0, 0, 0]]], dtype=uint8)"
      ]
     },
     "execution_count": 4,
     "metadata": {},
     "output_type": "execute_result"
    }
   ],
   "source": [
    "X_train"
   ]
  },
  {
   "cell_type": "code",
   "execution_count": 5,
   "metadata": {
    "scrolled": true
   },
   "outputs": [
    {
     "data": {
      "image/png": "[encoded data removed]",
      "text/plain": [
       "<Figure size 432x288 with 1 Axes>"
      ]
     },
     "metadata": {
      "needs_background": "light"
     },
     "output_type": "display_data"
    }
   ],
   "source": [
    "plt.imshow(X_train[0], cmap = plt.cm.binary)\n",
    "plt.show()"
   ]
  },
  {
   "cell_type": "markdown",
   "metadata": {},
   "source": [
    "## Convulutional Neural Networks"
   ]
  },
  {
   "cell_type": "markdown",
   "metadata": {},
   "source": [
    "### Prepare Data for modeling"
   ]
  },
  {
   "cell_type": "code",
   "execution_count": 6,
   "metadata": {},
   "outputs": [
    {
     "name": "stdout",
     "output_type": "stream",
     "text": [
      "X_train shape: (60000, 28, 28)\n",
      "X_train shape: (60000, 28, 28)\n",
      "X_test shape: (10000, 28, 28)\n"
     ]
    }
   ],
   "source": [
    "#set data to float for type consistency \n",
    "X_train = np.array(X_train, dtype='float32')\n",
    "X_test = np.array(X_test, dtype='float32')\n",
    "\n",
    "#normalize data\n",
    "X_train /= 255\n",
    "X_test /= 255\n",
    "print('X_train shape:', X_train.shape)\n",
    "print('X_train shape: {}'.format(X_train.shape))\n",
    "print('X_test shape: {}'.format(X_test.shape))"
   ]
  },
  {
   "cell_type": "code",
   "execution_count": 13,
   "metadata": {},
   "outputs": [],
   "source": [
    "#convert to binary class matrices\n",
    "y_train = keras.utils.normalize(y_train, axis=1)\n",
    "y_test = keras.utils.normalize(y_test, axis=1)"
   ]
  },
  {
   "cell_type": "markdown",
   "metadata": {},
   "source": [
    "### First Implementation"
   ]
  },
  {
   "cell_type": "code",
   "execution_count": 14,
   "metadata": {},
   "outputs": [],
   "source": [
    "def tf_model():\n",
    "    model=keras.Sequential([\n",
    "    keras.layers.Flatten(input_shape=(28,28)), \n",
    "    keras.layers.Dense(128, activation='relu'),\n",
    "    keras.layers.Dense(10, activation='softmax')])\n",
    "    model.compile(optimizer='adam', \n",
    "                 loss='categorical_crossentropy',\n",
    "                 metrics=['accuracy'])\n",
    "    return model "
   ]
  },
  {
   "cell_type": "code",
   "execution_count": 16,
   "metadata": {},
   "outputs": [
    {
     "name": "stdout",
     "output_type": "stream",
     "text": [
      "Epoch 1/10\n",
      "469/469 [==============================] - 1s 1ms/step - loss: 0.5462 - accuracy: 0.8130 - val_loss: 0.4524 - val_accuracy: 0.8432\n",
      "Epoch 2/10\n",
      "469/469 [==============================] - 1s 1ms/step - loss: 0.4031 - accuracy: 0.8599 - val_loss: 0.4194 - val_accuracy: 0.8559\n",
      "Epoch 3/10\n",
      "469/469 [==============================] - 1s 1ms/step - loss: 0.3705 - accuracy: 0.8681 - val_loss: 0.3931 - val_accuracy: 0.8611\n",
      "Epoch 4/10\n",
      "469/469 [==============================] - 1s 1ms/step - loss: 0.3392 - accuracy: 0.8782 - val_loss: 0.4054 - val_accuracy: 0.8563\n",
      "Epoch 5/10\n",
      "469/469 [==============================] - 1s 1ms/step - loss: 0.3241 - accuracy: 0.8839 - val_loss: 0.3795 - val_accuracy: 0.8665\n",
      "Epoch 6/10\n",
      "469/469 [==============================] - 1s 1ms/step - loss: 0.3059 - accuracy: 0.8899 - val_loss: 0.3579 - val_accuracy: 0.8705\n",
      "Epoch 7/10\n",
      "469/469 [==============================] - 1s 1ms/step - loss: 0.2962 - accuracy: 0.8921 - val_loss: 0.3447 - val_accuracy: 0.8750\n",
      "Epoch 8/10\n",
      "469/469 [==============================] - 1s 1ms/step - loss: 0.2817 - accuracy: 0.8980 - val_loss: 0.3460 - val_accuracy: 0.8784\n",
      "Epoch 9/10\n",
      "469/469 [==============================] - 1s 1ms/step - loss: 0.2741 - accuracy: 0.8995 - val_loss: 0.3567 - val_accuracy: 0.8730\n",
      "Epoch 10/10\n",
      "469/469 [==============================] - 1s 1ms/step - loss: 0.2636 - accuracy: 0.9042 - val_loss: 0.3551 - val_accuracy: 0.8743\n",
      "Test loss: 0.3551445007324219\n",
      "Test accuracy: 0.8743000030517578\n"
     ]
    }
   ],
   "source": [
    "#train and fit model \n",
    "model = tf_model()\n",
    "\n",
    "first = model.fit(X_train, y_train, \n",
    "                  batch_size=128, \n",
    "                  epochs=10, \n",
    "                  verbose=1, \n",
    "                  validation_data=(X_test, y_test))\n",
    "Score = model.evaluate(X_test, y_test, verbose=0)\n",
    "print('Test loss:', Score[0])\n",
    "print('Test accuracy:', Score[1])"
   ]
  },
  {
   "cell_type": "markdown",
   "metadata": {},
   "source": [
    "The test accuracy is 87%, not bad for the first try"
   ]
  },
  {
   "cell_type": "markdown",
   "metadata": {},
   "source": [
    "### Second Implementation"
   ]
  },
  {
   "cell_type": "code",
   "execution_count": 27,
   "metadata": {},
   "outputs": [],
   "source": [
    "def tf_model_2():\n",
    "    model=keras.Sequential([\n",
    "    keras.layers.Flatten(input_shape=(28,28)), \n",
    "    keras.layers.Dense(128, activation='relu'),\n",
    "    keras.layers.Dense(10, activation='softmax')])\n",
    "    model.compile(optimizer='adam', \n",
    "                 loss='binary_crossentropy',\n",
    "                 metrics=['accuracy'])\n",
    "    return model "
   ]
  },
  {
   "cell_type": "code",
   "execution_count": 42,
   "metadata": {
    "scrolled": false
   },
   "outputs": [
    {
     "name": "stdout",
     "output_type": "stream",
     "text": [
      "Epoch 1/10\n",
      "469/469 [==============================] - 1s 1ms/step - loss: 0.0940 - accuracy: 0.8084 - val_loss: 0.0782 - val_accuracy: 0.8471\n",
      "Epoch 2/10\n",
      "469/469 [==============================] - 1s 1ms/step - loss: 0.0707 - accuracy: 0.8579 - val_loss: 0.0703 - val_accuracy: 0.8573\n",
      "Epoch 3/10\n",
      "469/469 [==============================] - 1s 1ms/step - loss: 0.0642 - accuracy: 0.8707 - val_loss: 0.0686 - val_accuracy: 0.8609\n",
      "Epoch 4/10\n",
      "469/469 [==============================] - 1s 1ms/step - loss: 0.0598 - accuracy: 0.8792 - val_loss: 0.0647 - val_accuracy: 0.8723\n",
      "Epoch 5/10\n",
      "469/469 [==============================] - 1s 1ms/step - loss: 0.0561 - accuracy: 0.8863 - val_loss: 0.0647 - val_accuracy: 0.8695\n",
      "Epoch 6/10\n",
      "469/469 [==============================] - 1s 1ms/step - loss: 0.0536 - accuracy: 0.8915 - val_loss: 0.0637 - val_accuracy: 0.8699\n",
      "Epoch 7/10\n",
      "469/469 [==============================] - 1s 1ms/step - loss: 0.0520 - accuracy: 0.8943 - val_loss: 0.0610 - val_accuracy: 0.8772\n",
      "Epoch 8/10\n",
      "469/469 [==============================] - 1s 1ms/step - loss: 0.0500 - accuracy: 0.8990 - val_loss: 0.0632 - val_accuracy: 0.8756\n",
      "Epoch 9/10\n",
      "469/469 [==============================] - 1s 1ms/step - loss: 0.0485 - accuracy: 0.9018 - val_loss: 0.0618 - val_accuracy: 0.8738\n",
      "Epoch 10/10\n",
      "469/469 [==============================] - 1s 1ms/step - loss: 0.0466 - accuracy: 0.9064 - val_loss: 0.0626 - val_accuracy: 0.8712\n",
      "Test loss: 0.06262268126010895\n",
      "Test accuracy: 0.8712000250816345\n",
      "Model: \"sequential_18\"\n",
      "_________________________________________________________________\n",
      "Layer (type)                 Output Shape              Param #   \n",
      "=================================================================\n",
      "flatten_13 (Flatten)         (None, 784)               0         \n",
      "_________________________________________________________________\n",
      "dense_31 (Dense)             (None, 128)               100480    \n",
      "_________________________________________________________________\n",
      "dense_32 (Dense)             (None, 10)                1290      \n",
      "=================================================================\n",
      "Total params: 101,770\n",
      "Trainable params: 101,770\n",
      "Non-trainable params: 0\n",
      "_________________________________________________________________\n"
     ]
    }
   ],
   "source": [
    "#train and fit model \n",
    "model = tf_model_2()\n",
    "second = model.fit(X_train, y_train, \n",
    "                  batch_size=128, \n",
    "                  epochs=10, \n",
    "                  verbose=1, \n",
    "                  validation_data=(X_test, y_test))\n",
    "Score = model.evaluate(X_test, y_test, verbose=0)\n",
    "print('Test loss:', Score[0])\n",
    "print('Test accuracy:', Score[1])\n",
    "\n",
    "model.summary()"
   ]
  },
  {
   "cell_type": "markdown",
   "metadata": {},
   "source": [
    "### Third Implementation"
   ]
  },
  {
   "cell_type": "code",
   "execution_count": 31,
   "metadata": {},
   "outputs": [],
   "source": [
    "def tf_model_3():\n",
    "    model=keras.Sequential([\n",
    "    keras.layers.Flatten(input_shape=(28,28)), \n",
    "    keras.layers.Dense(128, activation='relu'),\n",
    "    keras.layers.Dense(10, activation='softmax')])\n",
    "    model.compile(optimizer='RMSprop', \n",
    "                 loss='binary_crossentropy',\n",
    "                 metrics=['accuracy'])\n",
    "    return model "
   ]
  },
  {
   "cell_type": "code",
   "execution_count": 48,
   "metadata": {},
   "outputs": [
    {
     "name": "stdout",
     "output_type": "stream",
     "text": [
      "Epoch 1/10\n",
      "469/469 [==============================] - 1s 2ms/step - loss: 0.0985 - accuracy: 0.7970 - val_loss: 0.0805 - val_accuracy: 0.8372\n",
      "Epoch 2/10\n",
      "469/469 [==============================] - 1s 2ms/step - loss: 0.0724 - accuracy: 0.8524 - val_loss: 0.0757 - val_accuracy: 0.8407\n",
      "Epoch 3/10\n",
      "469/469 [==============================] - 1s 1ms/step - loss: 0.0645 - accuracy: 0.8677 - val_loss: 0.0666 - val_accuracy: 0.8650\n",
      "Epoch 4/10\n",
      "469/469 [==============================] - 1s 1ms/step - loss: 0.0598 - accuracy: 0.8778 - val_loss: 0.0649 - val_accuracy: 0.8661\n",
      "Epoch 5/10\n",
      "469/469 [==============================] - 1s 1ms/step - loss: 0.0563 - accuracy: 0.8856 - val_loss: 0.0625 - val_accuracy: 0.8737\n",
      "Epoch 6/10\n",
      "469/469 [==============================] - 1s 1ms/step - loss: 0.0537 - accuracy: 0.8917 - val_loss: 0.0640 - val_accuracy: 0.8681\n",
      "Epoch 7/10\n",
      "469/469 [==============================] - 1s 1ms/step - loss: 0.0515 - accuracy: 0.8959 - val_loss: 0.0606 - val_accuracy: 0.8750\n",
      "Epoch 8/10\n",
      "469/469 [==============================] - 1s 1ms/step - loss: 0.0496 - accuracy: 0.9000 - val_loss: 0.0613 - val_accuracy: 0.8797\n",
      "Epoch 9/10\n",
      "469/469 [==============================] - 1s 2ms/step - loss: 0.0480 - accuracy: 0.9031 - val_loss: 0.0673 - val_accuracy: 0.8621\n",
      "Epoch 10/10\n",
      "469/469 [==============================] - 1s 2ms/step - loss: 0.0464 - accuracy: 0.9059 - val_loss: 0.0613 - val_accuracy: 0.8768\n",
      "Test loss: 0.061265233904123306\n",
      "Test accuracy: 0.876800000667572\n",
      "Model: \"sequential_23\"\n",
      "_________________________________________________________________\n",
      "Layer (type)                 Output Shape              Param #   \n",
      "=================================================================\n",
      "flatten_18 (Flatten)         (None, 784)               0         \n",
      "_________________________________________________________________\n",
      "dense_41 (Dense)             (None, 128)               100480    \n",
      "_________________________________________________________________\n",
      "dense_42 (Dense)             (None, 10)                1290      \n",
      "=================================================================\n",
      "Total params: 101,770\n",
      "Trainable params: 101,770\n",
      "Non-trainable params: 0\n",
      "_________________________________________________________________\n"
     ]
    }
   ],
   "source": [
    "#train and fit model \n",
    "model = tf_model_3()\n",
    "third = model.fit(X_train, y_train, \n",
    "                  batch_size=128, \n",
    "                  epochs=10, \n",
    "                  verbose=1, \n",
    "                  validation_data=(X_test, y_test))\n",
    "Score = model.evaluate(X_test, y_test, verbose=0)\n",
    "print('Test loss:', Score[0])\n",
    "print('Test accuracy:', Score[1])\n",
    "\n",
    "model.summary()"
   ]
  },
  {
   "cell_type": "markdown",
   "metadata": {},
   "source": [
    "### Fourth Implementation"
   ]
  },
  {
   "cell_type": "code",
   "execution_count": 49,
   "metadata": {},
   "outputs": [],
   "source": [
    "def tf_model_4():\n",
    "    model=keras.Sequential([\n",
    "    keras.layers.Flatten(input_shape=(28,28)), \n",
    "    keras.layers.Dense(128, activation='relu'),\n",
    "    keras.layers.Dense(10, activation='softmax')])\n",
    "    model.compile(optimizer='RMSprop', \n",
    "                 loss='categorical_crossentropy',\n",
    "                 metrics=['accuracy'])\n",
    "    return model "
   ]
  },
  {
   "cell_type": "code",
   "execution_count": 50,
   "metadata": {},
   "outputs": [
    {
     "name": "stdout",
     "output_type": "stream",
     "text": [
      "Epoch 1/10\n",
      "469/469 [==============================] - 1s 1ms/step - loss: 0.5756 - accuracy: 0.7996 - val_loss: 0.4599 - val_accuracy: 0.8365\n",
      "Epoch 2/10\n",
      "469/469 [==============================] - 1s 1ms/step - loss: 0.4114 - accuracy: 0.8518 - val_loss: 0.4325 - val_accuracy: 0.8418\n",
      "Epoch 3/10\n",
      "469/469 [==============================] - 1s 1ms/step - loss: 0.3634 - accuracy: 0.8677 - val_loss: 0.4213 - val_accuracy: 0.8492\n",
      "Epoch 4/10\n",
      "469/469 [==============================] - 1s 1ms/step - loss: 0.3340 - accuracy: 0.8775 - val_loss: 0.3958 - val_accuracy: 0.8573\n",
      "Epoch 5/10\n",
      "469/469 [==============================] - 1s 1ms/step - loss: 0.3152 - accuracy: 0.8843 - val_loss: 0.3501 - val_accuracy: 0.8772\n",
      "Epoch 6/10\n",
      "469/469 [==============================] - 1s 1ms/step - loss: 0.2992 - accuracy: 0.8897 - val_loss: 0.3536 - val_accuracy: 0.8754\n",
      "Epoch 7/10\n",
      "469/469 [==============================] - 1s 1ms/step - loss: 0.2847 - accuracy: 0.8967 - val_loss: 0.3571 - val_accuracy: 0.8744\n",
      "Epoch 8/10\n",
      "469/469 [==============================] - 1s 1ms/step - loss: 0.2758 - accuracy: 0.8991 - val_loss: 0.3441 - val_accuracy: 0.8768\n",
      "Epoch 9/10\n",
      "469/469 [==============================] - 1s 1ms/step - loss: 0.2655 - accuracy: 0.9022 - val_loss: 0.3378 - val_accuracy: 0.8774\n",
      "Epoch 10/10\n",
      "469/469 [==============================] - 1s 1ms/step - loss: 0.2565 - accuracy: 0.9056 - val_loss: 0.3539 - val_accuracy: 0.8768\n",
      "Test loss: 0.3538939356803894\n",
      "Test accuracy: 0.876800000667572\n",
      "Model: \"sequential_24\"\n",
      "_________________________________________________________________\n",
      "Layer (type)                 Output Shape              Param #   \n",
      "=================================================================\n",
      "flatten_19 (Flatten)         (None, 784)               0         \n",
      "_________________________________________________________________\n",
      "dense_43 (Dense)             (None, 128)               100480    \n",
      "_________________________________________________________________\n",
      "dense_44 (Dense)             (None, 10)                1290      \n",
      "=================================================================\n",
      "Total params: 101,770\n",
      "Trainable params: 101,770\n",
      "Non-trainable params: 0\n",
      "_________________________________________________________________\n"
     ]
    }
   ],
   "source": [
    "#train and fit model \n",
    "model = tf_model_4()\n",
    "fourth = model.fit(X_train, y_train, \n",
    "                  batch_size=128, \n",
    "                  epochs=10, \n",
    "                  verbose=1, \n",
    "                  validation_data=(X_test, y_test))\n",
    "Score = model.evaluate(X_test, y_test, verbose=0)\n",
    "print('Test loss:', Score[0])\n",
    "print('Test accuracy:', Score[1])\n",
    "\n",
    "model.summary()"
   ]
  },
  {
   "cell_type": "markdown",
   "metadata": {},
   "source": [
    "### Fifth Implementation"
   ]
  },
  {
   "cell_type": "code",
   "execution_count": 51,
   "metadata": {},
   "outputs": [],
   "source": [
    "def tf_model_5():\n",
    "    model=keras.Sequential([\n",
    "    keras.layers.Flatten(input_shape=(28,28)), \n",
    "    keras.layers.Dense(128, activation='relu'),\n",
    "    keras.layers.Dense(10, activation='sigmoid')])\n",
    "    model.compile(optimizer='RMSprop', \n",
    "                 loss='categorical_crossentropy',\n",
    "                 metrics=['accuracy'])\n",
    "    return model "
   ]
  },
  {
   "cell_type": "code",
   "execution_count": 53,
   "metadata": {},
   "outputs": [
    {
     "name": "stdout",
     "output_type": "stream",
     "text": [
      "Epoch 1/10\n",
      "469/469 [==============================] - 1s 1ms/step - loss: 0.6238 - accuracy: 0.7833 - val_loss: 0.5283 - val_accuracy: 0.8070\n",
      "Epoch 2/10\n",
      "469/469 [==============================] - 1s 2ms/step - loss: 0.4346 - accuracy: 0.8457 - val_loss: 0.4436 - val_accuracy: 0.8420\n",
      "Epoch 3/10\n",
      "469/469 [==============================] - 1s 1ms/step - loss: 0.3843 - accuracy: 0.8618 - val_loss: 0.4808 - val_accuracy: 0.8222\n",
      "Epoch 4/10\n",
      "469/469 [==============================] - 1s 1ms/step - loss: 0.3537 - accuracy: 0.8741 - val_loss: 0.3804 - val_accuracy: 0.8649\n",
      "Epoch 5/10\n",
      "469/469 [==============================] - 1s 1ms/step - loss: 0.3290 - accuracy: 0.8807 - val_loss: 0.4180 - val_accuracy: 0.8482\n",
      "Epoch 6/10\n",
      "469/469 [==============================] - 1s 1ms/step - loss: 0.3115 - accuracy: 0.8871 - val_loss: 0.4094 - val_accuracy: 0.8520\n",
      "Epoch 7/10\n",
      "469/469 [==============================] - 1s 1ms/step - loss: 0.2970 - accuracy: 0.8912 - val_loss: 0.3711 - val_accuracy: 0.8685\n",
      "Epoch 8/10\n",
      "469/469 [==============================] - 1s 1ms/step - loss: 0.2853 - accuracy: 0.8951 - val_loss: 0.3582 - val_accuracy: 0.8758\n",
      "Epoch 9/10\n",
      "469/469 [==============================] - 1s 1ms/step - loss: 0.2749 - accuracy: 0.8992 - val_loss: 0.3831 - val_accuracy: 0.8628\n",
      "Epoch 10/10\n",
      "469/469 [==============================] - 1s 1ms/step - loss: 0.2658 - accuracy: 0.9028 - val_loss: 0.3492 - val_accuracy: 0.8747\n",
      "Test loss: 0.34924525022506714\n",
      "Test accuracy: 0.8747000098228455\n",
      "Model: \"sequential_26\"\n",
      "_________________________________________________________________\n",
      "Layer (type)                 Output Shape              Param #   \n",
      "=================================================================\n",
      "flatten_21 (Flatten)         (None, 784)               0         \n",
      "_________________________________________________________________\n",
      "dense_47 (Dense)             (None, 128)               100480    \n",
      "_________________________________________________________________\n",
      "dense_48 (Dense)             (None, 10)                1290      \n",
      "=================================================================\n",
      "Total params: 101,770\n",
      "Trainable params: 101,770\n",
      "Non-trainable params: 0\n",
      "_________________________________________________________________\n"
     ]
    }
   ],
   "source": [
    "#train and fit model \n",
    "model = tf_model_5()\n",
    "fourth = model.fit(X_train, y_train, \n",
    "                  batch_size=128, \n",
    "                  epochs=10, \n",
    "                  verbose=1, \n",
    "                  validation_data=(X_test, y_test))\n",
    "Score = model.evaluate(X_test, y_test, verbose=0)\n",
    "print('Test loss:', Score[0])\n",
    "print('Test accuracy:', Score[1])\n",
    "\n",
    "model.summary()"
   ]
  },
  {
   "cell_type": "code",
   "execution_count": null,
   "metadata": {},
   "outputs": [],
   "source": []
  }
 ],
 "metadata": {
  "kernelspec": {
   "display_name": "Python 3",
   "language": "python",
   "name": "python3"
  },
  "language_info": {
   "codemirror_mode": {
    "name": "ipython",
    "version": 3
   },
   "file_extension": ".py",
   "mimetype": "text/x-python",
   "name": "python",
   "nbconvert_exporter": "python",
   "pygments_lexer": "ipython3",
   "version": "3.8.3"
  }
 },
 "nbformat": 4,
 "nbformat_minor": 4
}
