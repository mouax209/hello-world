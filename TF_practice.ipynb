{
  "nbformat": 4,
  "nbformat_minor": 0,
  "metadata": {
    "colab": {
      "name": "TF_practice.ipynb",
      "provenance": [],
      "authorship_tag": "ABX9TyNT0E6k85rSn/EdCIYj08jB",
      "include_colab_link": true
    },
    "kernelspec": {
      "name": "python3",
      "display_name": "Python 3"
    }
  },
  "cells": [
    {
      "cell_type": "markdown",
      "metadata": {
        "id": "view-in-github",
        "colab_type": "text"
      },
      "source": [
        "<a href=\"https://colab.research.google.com/github/mouax209/mouax209.github.io/blob/master/TF_practice.ipynb\" target=\"_parent\"><img src=\"https://colab.research.google.com/assets/colab-badge.svg\" alt=\"Open In Colab\"/></a>"
      ]
    },
    {
      "cell_type": "code",
      "metadata": {
        "id": "TnD3MVmU2mYT",
        "colab_type": "code",
        "colab": {}
      },
      "source": [
        "import tensorflow as tf"
      ],
      "execution_count": null,
      "outputs": []
    },
    {
      "cell_type": "markdown",
      "metadata": {
        "id": "91xeNcxu2vnA",
        "colab_type": "text"
      },
      "source": [
        "Now you have the basic elements of tensor flow, so it's time to build some things on your own. In the cell below, create the following tensors:\n",
        "\n",
        "*   Add a two constants, 3 and 2, together\n",
        "*   Divide a place holder by 2\n",
        "*   Take two placeholders and multiply them \n",
        "*   Sum a 7 and a placeholder, then multiply it by two \n"
      ]
    },
    {
      "cell_type": "code",
      "metadata": {
        "id": "WHOZuw3h2u7G",
        "colab_type": "code",
        "colab": {}
      },
      "source": [
        "#Add a two constants, 3 and 2, together"
      ],
      "execution_count": null,
      "outputs": []
    },
    {
      "cell_type": "code",
      "metadata": {
        "id": "Pcz_Jwej4G3E",
        "colab_type": "code",
        "colab": {}
      },
      "source": [
        "sess = tf.compat.v1.Session()"
      ],
      "execution_count": null,
      "outputs": []
    },
    {
      "cell_type": "code",
      "metadata": {
        "id": "JYkOPCPsJrB5",
        "colab_type": "code",
        "colab": {}
      },
      "source": [
        "adding = a+b"
      ],
      "execution_count": null,
      "outputs": []
    },
    {
      "cell_type": "code",
      "metadata": {
        "id": "UvUWCdQvKGtS",
        "colab_type": "code",
        "colab": {
          "base_uri": "https://localhost:8080/",
          "height": 33
        },
        "outputId": "1d439fb7-3fa1-4802-c29f-67b49b6c1c10"
      },
      "source": [
        "results = sess.run(adding) \n",
        "\n",
        "print(results)"
      ],
      "execution_count": null,
      "outputs": [
        {
          "output_type": "stream",
          "text": [
            "5\n"
          ],
          "name": "stdout"
        }
      ]
    },
    {
      "cell_type": "code",
      "metadata": {
        "id": "Y_OF1ulN4cdw",
        "colab_type": "code",
        "colab": {}
      },
      "source": [
        "#Divide a place holder by 2\n",
        "import tensorflow.compat.v1 as tf\n",
        "tf.disable_v2_behavior() "
      ],
      "execution_count": null,
      "outputs": []
    },
    {
      "cell_type": "code",
      "metadata": {
        "id": "C7K-2hCEKrmU",
        "colab_type": "code",
        "colab": {}
      },
      "source": [
        "dividing = b/a"
      ],
      "execution_count": null,
      "outputs": []
    },
    {
      "cell_type": "code",
      "metadata": {
        "id": "G7eCaE4HK1UU",
        "colab_type": "code",
        "colab": {
          "base_uri": "https://localhost:8080/",
          "height": 33
        },
        "outputId": "5504f7ef-dd5e-4962-ed79-f54fd798c9b6"
      },
      "source": [
        "results = sess.run(dividing)\n",
        "print(results)"
      ],
      "execution_count": null,
      "outputs": [
        {
          "output_type": "stream",
          "text": [
            "0.6666666666666666\n"
          ],
          "name": "stdout"
        }
      ]
    },
    {
      "cell_type": "code",
      "metadata": {
        "id": "Pv3EeqWl7r0z",
        "colab_type": "code",
        "colab": {}
      },
      "source": [
        "#Take two placeholders and multiply them"
      ],
      "execution_count": null,
      "outputs": []
    },
    {
      "cell_type": "code",
      "metadata": {
        "id": "g6WM3pPd7u3j",
        "colab_type": "code",
        "colab": {
          "base_uri": "https://localhost:8080/",
          "height": 33
        },
        "outputId": "221cc2d7-7885-440f-b12c-aed9da2996c3"
      },
      "source": [
        "a = tf.placeholder(tf.float32)\n",
        "b = tf.placeholder(tf.float32)\n",
        "\n",
        "#Create an operator node \n",
        "multiply_plchld = tf.multiply(a,b)\n",
        "\n",
        "results = sess.run(multiply_plchld, {a:3, b:11})\n",
        "print(results)"
      ],
      "execution_count": null,
      "outputs": [
        {
          "output_type": "stream",
          "text": [
            "33.0\n"
          ],
          "name": "stdout"
        }
      ]
    },
    {
      "cell_type": "code",
      "metadata": {
        "id": "A_rUsann9EAB",
        "colab_type": "code",
        "colab": {}
      },
      "source": [
        "#Sum a 7 and a placeholder, then multiply it by two"
      ],
      "execution_count": null,
      "outputs": []
    },
    {
      "cell_type": "code",
      "metadata": {
        "id": "FDedxd_PMU5U",
        "colab_type": "code",
        "colab": {
          "base_uri": "https://localhost:8080/",
          "height": 33
        },
        "outputId": "5334c474-0586-4e6e-9493-f55d21c9f403"
      },
      "source": [
        "a = tf.placeholder(tf.float32)\n",
        "result = tf.multiply(a,7)\n",
        "\n",
        "answer = sess.run(result, {a:2})\n",
        "print(answer)"
      ],
      "execution_count": null,
      "outputs": [
        {
          "output_type": "stream",
          "text": [
            "14.0\n"
          ],
          "name": "stdout"
        }
      ]
    }
  ]
}