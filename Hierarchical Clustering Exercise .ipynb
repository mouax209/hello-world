{
 "cells": [
  {
   "cell_type": "code",
   "execution_count": 1,
   "metadata": {},
   "outputs": [],
   "source": [
    "import numpy as np\n",
    "import pandas as pd\n",
    "import scipy\n",
    "import matplotlib.pyplot as plt\n",
    "import seaborn as sns\n",
    "from sklearn.cluster import KMeans\n",
    "from sklearn.preprocessing import StandardScaler\n",
    "from sklearn.decomposition import PCA\n",
    "from sklearn.cluster import MiniBatchKMeans\n",
    "from sklearn import datasets\n",
    "from sqlalchemy import create_engine\n",
    "import warnings \n",
    "warnings.filterwarnings(\"ignore\")\n",
    "sns.set(style=\"whitegrid\")"
   ]
  },
  {
   "cell_type": "code",
   "execution_count": 2,
   "metadata": {},
   "outputs": [],
   "source": [
    "postgres_user = 'dsbc_student'\n",
    "postgres_pw = '7*.8G9QH21'\n",
    "postgres_host = '142.93.121.174'\n",
    "postgres_port = '5432'\n",
    "postgres_db = 'heartdisease'"
   ]
  },
  {
   "cell_type": "code",
   "execution_count": 3,
   "metadata": {},
   "outputs": [],
   "source": [
    "engine = create_engine('postgresql://{}:{}@{}:{}/{}'.format(\n",
    "    postgres_user, postgres_pw, postgres_host, postgres_port, postgres_db))"
   ]
  },
  {
   "cell_type": "code",
   "execution_count": 4,
   "metadata": {},
   "outputs": [],
   "source": [
    "heartdisease_df = pd.read_sql_query('select * from heartdisease',con=engine)"
   ]
  },
  {
   "cell_type": "code",
   "execution_count": 7,
   "metadata": {},
   "outputs": [],
   "source": [
    "# Define the features and the outcome\n",
    "X = heartdisease_df.iloc[:, :13]\n",
    "y = heartdisease_df.iloc[:, 13]\n",
    "\n",
    "# Replace missing values (marked by ?) with a 0\n",
    "X = X.replace(to_replace='?', value=0)\n",
    "\n",
    "# Binarize y so that 1 means heart disease diagnosis and 0 means no diagnosis\n",
    "y = np.where(y > 0, 0, 1)\n",
    "\n",
    "# Normalize\n",
    "X_std = StandardScaler().fit_transform(X)"
   ]
  },
  {
   "cell_type": "markdown",
   "metadata": {},
   "source": [
    "If y is equal to 1, then it indicates that the corresponding patient has heart disease and if y is equal to 0, then the patient doesn't have heart disease."
   ]
  },
  {
   "cell_type": "markdown",
   "metadata": {},
   "source": [
    "## Produce dendrograms for the heart disease dataset using three different linkage methods: complete, average and ward. Which linkage method do you think produces more reasonable result?"
   ]
  },
  {
   "cell_type": "code",
   "execution_count": 6,
   "metadata": {},
   "outputs": [],
   "source": [
    "from scipy.cluster.hierarchy import dendrogram, linkage\n",
    "from sklearn.preprocessing import StandardScaler\n",
    "from sklearn.cluster import AgglomerativeClustering\n",
    "from sklearn.decomposition import PCA\n",
    "from sklearn import datasets, metrics"
   ]
  },
  {
   "cell_type": "markdown",
   "metadata": {},
   "source": [
    "Linkage: Complete"
   ]
  },
  {
   "cell_type": "code",
   "execution_count": 9,
   "metadata": {},
   "outputs": [],
   "source": [
    "# Defining the agglomerative clustering\n",
    "agg_cluster = AgglomerativeClustering(linkage='complete', \n",
    "                                      affinity='cosine',\n",
    "                                      n_clusters=3)\n",
    "\n",
    "# Fit model\n",
    "clusters_complete = agg_cluster.fit_predict(X_std)"
   ]
  },
  {
   "cell_type": "code",
   "execution_count": 10,
   "metadata": {},
   "outputs": [
    {
     "name": "stdout",
     "output_type": "stream",
     "text": [
      "Adjusted Rand Index of the Agglomerative Clustering solution: 0.18301939761943772\n",
      "The silhoutte score of the Agglomerative Clustering solution: 0.09438720643481781\n"
     ]
    }
   ],
   "source": [
    "print(\"Adjusted Rand Index of the Agglomerative Clustering solution: {}\"\n",
    "      .format(metrics.adjusted_rand_score(y, clusters_complete)))\n",
    "print(\"The silhoutte score of the Agglomerative Clustering solution: {}\"\n",
    "      .format(metrics.silhouette_score(X_std, clusters_complete, metric='euclidean')))"
   ]
  },
  {
   "cell_type": "markdown",
   "metadata": {},
   "source": [
    "Linkage: Ward"
   ]
  },
  {
   "cell_type": "code",
   "execution_count": 13,
   "metadata": {},
   "outputs": [],
   "source": [
    "agg_cluster_ward = AgglomerativeClustering(linkage='ward', \n",
    "                                      affinity='euclidean',\n",
    "                                      n_clusters=3)\n",
    "\n",
    "# Fit model\n",
    "clusters_ward = agg_cluster_ward.fit_predict(X_std)"
   ]
  },
  {
   "cell_type": "code",
   "execution_count": 14,
   "metadata": {},
   "outputs": [
    {
     "name": "stdout",
     "output_type": "stream",
     "text": [
      "Adjusted Rand Index of the Agglomerative Clustering solution: 0.14859596899025246\n",
      "The silhoutte score of the Agglomerative Clustering solution: 0.155240382445262\n"
     ]
    }
   ],
   "source": [
    "print(\"Adjusted Rand Index of the Agglomerative Clustering solution: {}\"\n",
    "      .format(metrics.adjusted_rand_score(y, clusters_ward)))\n",
    "print(\"The silhoutte score of the Agglomerative Clustering solution: {}\"\n",
    "      .format(metrics.silhouette_score(X_std, clusters_ward, metric='euclidean')))"
   ]
  },
  {
   "cell_type": "markdown",
   "metadata": {},
   "source": [
    "Linkage: Average"
   ]
  },
  {
   "cell_type": "code",
   "execution_count": 17,
   "metadata": {},
   "outputs": [],
   "source": [
    "agg_cluster_avg = AgglomerativeClustering(linkage='average', \n",
    "                                      affinity='manhattan',\n",
    "                                      n_clusters=3)\n",
    "\n",
    "# Fit model\n",
    "clusters_avg = agg_cluster_ward.fit_predict(X_std)"
   ]
  },
  {
   "cell_type": "code",
   "execution_count": 19,
   "metadata": {},
   "outputs": [
    {
     "name": "stdout",
     "output_type": "stream",
     "text": [
      "Adjusted Rand Index of the Agglomerative Clustering solution: 0.14859596899025246\n",
      "The silhoutte score of the Agglomerative Clustering solution: 0.19999005076869555\n"
     ]
    }
   ],
   "source": [
    "print(\"Adjusted Rand Index of the Agglomerative Clustering solution: {}\"\n",
    "      .format(metrics.adjusted_rand_score(y, clusters_avg)))\n",
    "print(\"The silhoutte score of the Agglomerative Clustering solution: {}\"\n",
    "      .format(metrics.silhouette_score(X_std, clusters_avg, metric='manhattan')))"
   ]
  },
  {
   "cell_type": "markdown",
   "metadata": {},
   "source": [
    "All three linkage methods produced fairly low results on both the ARI and silhoutte scores. The best of the three is the Average with the best set of results of ARI: .1485 and Silhoutte of .19999 "
   ]
  },
  {
   "cell_type": "markdown",
   "metadata": {},
   "source": [
    "# Apply agglomerative clustering to the heart disease data by setting n_clusters=2. Try the three linkage methods above and get ARI and silhouette scores for each of your solutions. Compare the results with each other and with that of the k-means solution that you implemented in the assignment of the previous checkpoint. Which algorithm and setting does perform better?"
   ]
  },
  {
   "cell_type": "markdown",
   "metadata": {},
   "source": [
    "Linkage: Complete"
   ]
  },
  {
   "cell_type": "code",
   "execution_count": 20,
   "metadata": {},
   "outputs": [],
   "source": [
    "agg_cluster = AgglomerativeClustering(linkage='complete', \n",
    "                                      affinity='cosine',\n",
    "                                      n_clusters=2)\n",
    "\n",
    "# Fit model\n",
    "clusters_complete = agg_cluster.fit_predict(X_std)"
   ]
  },
  {
   "cell_type": "code",
   "execution_count": 21,
   "metadata": {},
   "outputs": [
    {
     "name": "stdout",
     "output_type": "stream",
     "text": [
      "Adjusted Rand Index of the Agglomerative Clustering solution: 0.21394030618551016\n",
      "The silhoutte score of the Agglomerative Clustering solution: 0.11730765444448985\n"
     ]
    }
   ],
   "source": [
    "print(\"Adjusted Rand Index of the Agglomerative Clustering solution: {}\"\n",
    "      .format(metrics.adjusted_rand_score(y, clusters_complete)))\n",
    "print(\"The silhoutte score of the Agglomerative Clustering solution: {}\"\n",
    "      .format(metrics.silhouette_score(X_std, clusters_complete, metric='euclidean')))"
   ]
  },
  {
   "cell_type": "markdown",
   "metadata": {},
   "source": [
    "Linkage: Ward "
   ]
  },
  {
   "cell_type": "code",
   "execution_count": 24,
   "metadata": {},
   "outputs": [],
   "source": [
    "agg_cluster_ward = AgglomerativeClustering(linkage='ward', \n",
    "                                      affinity='euclidean',\n",
    "                                      n_clusters=2)\n",
    "\n",
    "# Fit model\n",
    "clusters_ward = agg_cluster_ward.fit_predict(X_std)"
   ]
  },
  {
   "cell_type": "code",
   "execution_count": 25,
   "metadata": {},
   "outputs": [
    {
     "name": "stdout",
     "output_type": "stream",
     "text": [
      "Adjusted Rand Index of the Agglomerative Clustering solution: 0.146129913123814\n",
      "The silhoutte score of the Agglomerative Clustering solution: 0.1387197366557222\n"
     ]
    }
   ],
   "source": [
    "print(\"Adjusted Rand Index of the Agglomerative Clustering solution: {}\"\n",
    "      .format(metrics.adjusted_rand_score(y, clusters_ward)))\n",
    "print(\"The silhoutte score of the Agglomerative Clustering solution: {}\"\n",
    "      .format(metrics.silhouette_score(X_std, clusters_ward, metric='euclidean')))"
   ]
  },
  {
   "cell_type": "markdown",
   "metadata": {},
   "source": [
    "Linkage: Average"
   ]
  },
  {
   "cell_type": "code",
   "execution_count": 26,
   "metadata": {},
   "outputs": [],
   "source": [
    "agg_cluster_avg = AgglomerativeClustering(linkage='average', \n",
    "                                      affinity='manhattan',\n",
    "                                      n_clusters=2)\n",
    "\n",
    "# Fit model\n",
    "clusters_avg = agg_cluster_ward.fit_predict(X_std)"
   ]
  },
  {
   "cell_type": "code",
   "execution_count": 27,
   "metadata": {},
   "outputs": [
    {
     "name": "stdout",
     "output_type": "stream",
     "text": [
      "Adjusted Rand Index of the Agglomerative Clustering solution: 0.146129913123814\n",
      "The silhoutte score of the Agglomerative Clustering solution: 0.18207989265419602\n"
     ]
    }
   ],
   "source": [
    "print(\"Adjusted Rand Index of the Agglomerative Clustering solution: {}\"\n",
    "      .format(metrics.adjusted_rand_score(y, clusters_avg)))\n",
    "print(\"The silhoutte score of the Agglomerative Clustering solution: {}\"\n",
    "      .format(metrics.silhouette_score(X_std, clusters_avg, metric='manhattan')))"
   ]
  },
  {
   "cell_type": "markdown",
   "metadata": {},
   "source": [
    "Comparing all ARI and Silouhette scores, two cluster shows the best results. In the agglomerative clustering of 2, the ARI score went up most significantly among the three methods. In the previous assignment, two clusters also produced the higher results. "
   ]
  },
  {
   "cell_type": "code",
   "execution_count": null,
   "metadata": {},
   "outputs": [],
   "source": []
  }
 ],
 "metadata": {
  "kernelspec": {
   "display_name": "Python 3",
   "language": "python",
   "name": "python3"
  },
  "language_info": {
   "codemirror_mode": {
    "name": "ipython",
    "version": 3
   },
   "file_extension": ".py",
   "mimetype": "text/x-python",
   "name": "python",
   "nbconvert_exporter": "python",
   "pygments_lexer": "ipython3",
   "version": "3.7.3"
  }
 },
 "nbformat": 4,
 "nbformat_minor": 2
}
